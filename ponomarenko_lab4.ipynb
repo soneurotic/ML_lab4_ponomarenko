{
 "cells": [
  {
   "cell_type": "code",
   "execution_count": 304,
   "id": "f3915346",
   "metadata": {},
   "outputs": [],
   "source": [
    "import numpy as np\n",
    "import pandas as pd\n",
    "import matplotlib.pyplot as plt\n",
    "from sklearn.model_selection import ShuffleSplit\n",
    "from sklearn.neighbors import KNeighborsClassifier\n",
    "from sklearn.preprocessing import OneHotEncoder\n",
    "from sklearn import metrics"
   ]
  },
  {
   "cell_type": "code",
   "execution_count": 330,
   "id": "6ef08b80",
   "metadata": {},
   "outputs": [],
   "source": [
    "from tqdm import tqdm\n",
    "import inspect\n",
    "import warnings\n",
    "warnings.filterwarnings(\"ignore\") "
   ]
  },
  {
   "cell_type": "code",
   "execution_count": 306,
   "id": "e645555b",
   "metadata": {},
   "outputs": [],
   "source": [
    "def roundf(val):\n",
    "    precision = 3\n",
    "    \n",
    "    if isinstance(val, tuple):\n",
    "        return (round(float(val[0]), precision), round(float(val[1]), precision))\n",
    "    else:\n",
    "        return round(val, precision)"
   ]
  },
  {
   "cell_type": "code",
   "execution_count": 307,
   "id": "e4044655",
   "metadata": {},
   "outputs": [],
   "source": [
    "def retrieve_name(var):\n",
    "    callers_local_vars = inspect.currentframe().f_back.f_locals.items()\n",
    "    return [var_name for var_name, var_val in callers_local_vars if var_val is var]"
   ]
  },
  {
   "cell_type": "code",
   "execution_count": 308,
   "id": "e46b2062",
   "metadata": {},
   "outputs": [],
   "source": [
    "def encode(df):\n",
    "    categorical_columns = df.select_dtypes(include=['object']).columns.tolist()\n",
    "    encoder = OneHotEncoder(sparse=False)\n",
    "    one_hot_encoded = encoder.fit_transform(df[categorical_columns])\n",
    "    one_hot_df = pd.DataFrame(one_hot_encoded, columns=encoder.get_feature_names_out(categorical_columns))\n",
    "    df_encoded = pd.concat([df, one_hot_df], axis=1)\n",
    "    df_encoded = df_encoded.drop(categorical_columns, axis=1)\n",
    "    \n",
    "    return df_encoded"
   ]
  },
  {
   "cell_type": "code",
   "execution_count": 309,
   "id": "6f106493",
   "metadata": {},
   "outputs": [],
   "source": [
    "def calc_metrics(model, X, y, test=False, output=True):    \n",
    "    metric_names = ['Accuracy', 'BA', 'Precision', 'Recall', 'F1 score', 'MCC']\n",
    "\n",
    "    accuracy = roundf(metrics.accuracy_score(y, model.predict(X)))\n",
    "    BA = roundf(metrics.balanced_accuracy_score(y, model.predict(X)))\n",
    "    precision = roundf(metrics.precision_score(y, model.predict(X), average='weighted'))\n",
    "    recall = roundf(metrics.recall_score(y, model.predict(X), average='weighted'))\n",
    "    F1_score = roundf(metrics.f1_score(y, model.predict(X), average='weighted'))\n",
    "    MCC = roundf(metrics.matthews_corrcoef(y, model.predict(X)))\n",
    "    \n",
    "    lst = [(retrieve_name(accuracy)[0], accuracy), \n",
    "           (retrieve_name(BA)[0], BA),\n",
    "           (retrieve_name(precision)[0], precision),\n",
    "           (retrieve_name(recall)[0], recall),\n",
    "           (retrieve_name(F1_score)[0], F1_score),\n",
    "           (retrieve_name(MCC)[0], MCC)]\n",
    "    \n",
    "    if output:\n",
    "        print(f\"Вибірка - {'test' if test else 'train'}\")\n",
    "        for el in lst:\n",
    "            print(f' {el[0]}: {el[1]}')\n",
    "    \n",
    "    return ([accuracy, BA, precision, recall, F1_score, MCC], [el[0] for el in lst])"
   ]
  },
  {
   "cell_type": "code",
   "execution_count": 310,
   "id": "3141b394",
   "metadata": {},
   "outputs": [],
   "source": [
    "def plot_metrics(values, labels, title):\n",
    "    bar_width = 0.35\n",
    "\n",
    "    index = np.arange(len(values))\n",
    "\n",
    "    subplots = 1\n",
    "    fig, axs = plt.subplots(subplots, 1, figsize=(12, 8))\n",
    "\n",
    "    colors = plt.cm.viridis(np.linspace(0, 1, len(values)))\n",
    "\n",
    "    bars = axs.bar(index, values, bar_width, label=labels)\n",
    "\n",
    "    for i, bar in enumerate(bars):\n",
    "        bar.set_color(colors[i])\n",
    "\n",
    "    axs.set_ylabel('Values')\n",
    "    axs.set_title(title)\n",
    "    axs.set_xticks(index)\n",
    "    axs.set_xticklabels(labels, rotation=45)\n",
    "    axs.set_yticks(np.linspace(0, 1, 11))\n",
    "\n",
    "    plt.tight_layout()\n",
    "    plt.show()"
   ]
  },
  {
   "cell_type": "code",
   "execution_count": 347,
   "id": "671ab521",
   "metadata": {},
   "outputs": [],
   "source": [
    "def plot_results(set1, set2, labels, title):\n",
    "    num_plots = len(labels)\n",
    "    fig, axs = plt.subplots(1, 2, figsize=(16, 6), sharey=False)\n",
    "    \n",
    "    colors = plt.cm.viridis(np.linspace(0, 1, len(labels)))\n",
    "\n",
    "    for i in range(num_plots):\n",
    "        axs[0].plot([sublist[i] for sublist in set1], label=labels[i], color=colors[i])\n",
    "        axs[1].plot([sublist[i] for sublist in set2], label=labels[i], color=colors[i])\n",
    "\n",
    "    axs[0].set_title('Train')\n",
    "    axs[1].set_title('Test')\n",
    "    axs[0].legend()\n",
    "    axs[1].legend()\n",
    "    fig.suptitle(title)\n",
    "\n",
    "    for ax in axs:\n",
    "        ax.set_xticks(range(0, 20, 1))  # Adjusted to start from 0\n",
    "        ax.set_xticklabels(range(1, 21, 1))  # Adjusted labels\n",
    "\n",
    "    plt.show()"
   ]
  },
  {
   "cell_type": "markdown",
   "id": "96139711",
   "metadata": {},
   "source": [
    "### 1. Відкрити та зчитати наданий файл з даними."
   ]
  },
  {
   "cell_type": "code",
   "execution_count": 311,
   "id": "a9a6150a",
   "metadata": {},
   "outputs": [],
   "source": [
    "df = pd.read_csv('dataset3_l4.csv')"
   ]
  },
  {
   "cell_type": "code",
   "execution_count": 312,
   "id": "1e217291",
   "metadata": {},
   "outputs": [
    {
     "data": {
      "text/html": [
       "<div>\n",
       "<style scoped>\n",
       "    .dataframe tbody tr th:only-of-type {\n",
       "        vertical-align: middle;\n",
       "    }\n",
       "\n",
       "    .dataframe tbody tr th {\n",
       "        vertical-align: top;\n",
       "    }\n",
       "\n",
       "    .dataframe thead th {\n",
       "        text-align: right;\n",
       "    }\n",
       "</style>\n",
       "<table border=\"1\" class=\"dataframe\">\n",
       "  <thead>\n",
       "    <tr style=\"text-align: right;\">\n",
       "      <th></th>\n",
       "      <th>Gender</th>\n",
       "      <th>Age</th>\n",
       "      <th>Height</th>\n",
       "      <th>Weight</th>\n",
       "      <th>family_history_with_overweight</th>\n",
       "      <th>FAVC</th>\n",
       "      <th>FCVC</th>\n",
       "      <th>NCP</th>\n",
       "      <th>CAEC</th>\n",
       "      <th>SMOKE</th>\n",
       "      <th>CH2O</th>\n",
       "      <th>SCC</th>\n",
       "      <th>FAF</th>\n",
       "      <th>TUE</th>\n",
       "      <th>CALC</th>\n",
       "      <th>MTRANS</th>\n",
       "      <th>NObeyesdad</th>\n",
       "    </tr>\n",
       "  </thead>\n",
       "  <tbody>\n",
       "    <tr>\n",
       "      <th>0</th>\n",
       "      <td>Female</td>\n",
       "      <td>21.000000</td>\n",
       "      <td>1.620000</td>\n",
       "      <td>64.000000</td>\n",
       "      <td>yes</td>\n",
       "      <td>no</td>\n",
       "      <td>2.0</td>\n",
       "      <td>3.0</td>\n",
       "      <td>Sometimes</td>\n",
       "      <td>no</td>\n",
       "      <td>2.000000</td>\n",
       "      <td>no</td>\n",
       "      <td>0.000000</td>\n",
       "      <td>1.000000</td>\n",
       "      <td>no</td>\n",
       "      <td>Public_Transportation</td>\n",
       "      <td>Normal_Weight</td>\n",
       "    </tr>\n",
       "    <tr>\n",
       "      <th>1</th>\n",
       "      <td>Female</td>\n",
       "      <td>21.000000</td>\n",
       "      <td>1.520000</td>\n",
       "      <td>56.000000</td>\n",
       "      <td>yes</td>\n",
       "      <td>no</td>\n",
       "      <td>3.0</td>\n",
       "      <td>3.0</td>\n",
       "      <td>Sometimes</td>\n",
       "      <td>yes</td>\n",
       "      <td>3.000000</td>\n",
       "      <td>yes</td>\n",
       "      <td>3.000000</td>\n",
       "      <td>0.000000</td>\n",
       "      <td>Sometimes</td>\n",
       "      <td>Public_Transportation</td>\n",
       "      <td>Normal_Weight</td>\n",
       "    </tr>\n",
       "    <tr>\n",
       "      <th>2</th>\n",
       "      <td>Male</td>\n",
       "      <td>23.000000</td>\n",
       "      <td>1.800000</td>\n",
       "      <td>77.000000</td>\n",
       "      <td>yes</td>\n",
       "      <td>no</td>\n",
       "      <td>2.0</td>\n",
       "      <td>3.0</td>\n",
       "      <td>Sometimes</td>\n",
       "      <td>no</td>\n",
       "      <td>2.000000</td>\n",
       "      <td>no</td>\n",
       "      <td>2.000000</td>\n",
       "      <td>1.000000</td>\n",
       "      <td>Frequently</td>\n",
       "      <td>Public_Transportation</td>\n",
       "      <td>Normal_Weight</td>\n",
       "    </tr>\n",
       "    <tr>\n",
       "      <th>3</th>\n",
       "      <td>Male</td>\n",
       "      <td>27.000000</td>\n",
       "      <td>1.800000</td>\n",
       "      <td>87.000000</td>\n",
       "      <td>no</td>\n",
       "      <td>no</td>\n",
       "      <td>3.0</td>\n",
       "      <td>3.0</td>\n",
       "      <td>Sometimes</td>\n",
       "      <td>no</td>\n",
       "      <td>2.000000</td>\n",
       "      <td>no</td>\n",
       "      <td>2.000000</td>\n",
       "      <td>0.000000</td>\n",
       "      <td>Frequently</td>\n",
       "      <td>Walking</td>\n",
       "      <td>Overweight_Level_I</td>\n",
       "    </tr>\n",
       "    <tr>\n",
       "      <th>4</th>\n",
       "      <td>Male</td>\n",
       "      <td>22.000000</td>\n",
       "      <td>1.780000</td>\n",
       "      <td>89.800000</td>\n",
       "      <td>no</td>\n",
       "      <td>no</td>\n",
       "      <td>2.0</td>\n",
       "      <td>1.0</td>\n",
       "      <td>Sometimes</td>\n",
       "      <td>no</td>\n",
       "      <td>2.000000</td>\n",
       "      <td>no</td>\n",
       "      <td>0.000000</td>\n",
       "      <td>0.000000</td>\n",
       "      <td>Sometimes</td>\n",
       "      <td>Public_Transportation</td>\n",
       "      <td>Overweight_Level_II</td>\n",
       "    </tr>\n",
       "    <tr>\n",
       "      <th>...</th>\n",
       "      <td>...</td>\n",
       "      <td>...</td>\n",
       "      <td>...</td>\n",
       "      <td>...</td>\n",
       "      <td>...</td>\n",
       "      <td>...</td>\n",
       "      <td>...</td>\n",
       "      <td>...</td>\n",
       "      <td>...</td>\n",
       "      <td>...</td>\n",
       "      <td>...</td>\n",
       "      <td>...</td>\n",
       "      <td>...</td>\n",
       "      <td>...</td>\n",
       "      <td>...</td>\n",
       "      <td>...</td>\n",
       "      <td>...</td>\n",
       "    </tr>\n",
       "    <tr>\n",
       "      <th>2106</th>\n",
       "      <td>Female</td>\n",
       "      <td>20.976842</td>\n",
       "      <td>1.710730</td>\n",
       "      <td>131.408528</td>\n",
       "      <td>yes</td>\n",
       "      <td>yes</td>\n",
       "      <td>3.0</td>\n",
       "      <td>3.0</td>\n",
       "      <td>Sometimes</td>\n",
       "      <td>no</td>\n",
       "      <td>1.728139</td>\n",
       "      <td>no</td>\n",
       "      <td>1.676269</td>\n",
       "      <td>0.906247</td>\n",
       "      <td>Sometimes</td>\n",
       "      <td>Public_Transportation</td>\n",
       "      <td>Obesity_Type_III</td>\n",
       "    </tr>\n",
       "    <tr>\n",
       "      <th>2107</th>\n",
       "      <td>Female</td>\n",
       "      <td>21.982942</td>\n",
       "      <td>1.748584</td>\n",
       "      <td>133.742943</td>\n",
       "      <td>yes</td>\n",
       "      <td>yes</td>\n",
       "      <td>3.0</td>\n",
       "      <td>3.0</td>\n",
       "      <td>Sometimes</td>\n",
       "      <td>no</td>\n",
       "      <td>2.005130</td>\n",
       "      <td>no</td>\n",
       "      <td>1.341390</td>\n",
       "      <td>0.599270</td>\n",
       "      <td>Sometimes</td>\n",
       "      <td>Public_Transportation</td>\n",
       "      <td>Obesity_Type_III</td>\n",
       "    </tr>\n",
       "    <tr>\n",
       "      <th>2108</th>\n",
       "      <td>Female</td>\n",
       "      <td>22.524036</td>\n",
       "      <td>1.752206</td>\n",
       "      <td>133.689352</td>\n",
       "      <td>yes</td>\n",
       "      <td>yes</td>\n",
       "      <td>3.0</td>\n",
       "      <td>3.0</td>\n",
       "      <td>Sometimes</td>\n",
       "      <td>no</td>\n",
       "      <td>2.054193</td>\n",
       "      <td>no</td>\n",
       "      <td>1.414209</td>\n",
       "      <td>0.646288</td>\n",
       "      <td>Sometimes</td>\n",
       "      <td>Public_Transportation</td>\n",
       "      <td>Obesity_Type_III</td>\n",
       "    </tr>\n",
       "    <tr>\n",
       "      <th>2109</th>\n",
       "      <td>Female</td>\n",
       "      <td>24.361936</td>\n",
       "      <td>1.739450</td>\n",
       "      <td>133.346641</td>\n",
       "      <td>yes</td>\n",
       "      <td>yes</td>\n",
       "      <td>3.0</td>\n",
       "      <td>3.0</td>\n",
       "      <td>Sometimes</td>\n",
       "      <td>no</td>\n",
       "      <td>2.852339</td>\n",
       "      <td>no</td>\n",
       "      <td>1.139107</td>\n",
       "      <td>0.586035</td>\n",
       "      <td>Sometimes</td>\n",
       "      <td>Public_Transportation</td>\n",
       "      <td>Obesity_Type_III</td>\n",
       "    </tr>\n",
       "    <tr>\n",
       "      <th>2110</th>\n",
       "      <td>Female</td>\n",
       "      <td>23.664709</td>\n",
       "      <td>1.738836</td>\n",
       "      <td>133.472641</td>\n",
       "      <td>yes</td>\n",
       "      <td>yes</td>\n",
       "      <td>3.0</td>\n",
       "      <td>3.0</td>\n",
       "      <td>Sometimes</td>\n",
       "      <td>no</td>\n",
       "      <td>2.863513</td>\n",
       "      <td>no</td>\n",
       "      <td>1.026452</td>\n",
       "      <td>0.714137</td>\n",
       "      <td>Sometimes</td>\n",
       "      <td>Public_Transportation</td>\n",
       "      <td>Obesity_Type_III</td>\n",
       "    </tr>\n",
       "  </tbody>\n",
       "</table>\n",
       "<p>2111 rows × 17 columns</p>\n",
       "</div>"
      ],
      "text/plain": [
       "      Gender        Age    Height      Weight family_history_with_overweight  \\\n",
       "0     Female  21.000000  1.620000   64.000000                            yes   \n",
       "1     Female  21.000000  1.520000   56.000000                            yes   \n",
       "2       Male  23.000000  1.800000   77.000000                            yes   \n",
       "3       Male  27.000000  1.800000   87.000000                             no   \n",
       "4       Male  22.000000  1.780000   89.800000                             no   \n",
       "...      ...        ...       ...         ...                            ...   \n",
       "2106  Female  20.976842  1.710730  131.408528                            yes   \n",
       "2107  Female  21.982942  1.748584  133.742943                            yes   \n",
       "2108  Female  22.524036  1.752206  133.689352                            yes   \n",
       "2109  Female  24.361936  1.739450  133.346641                            yes   \n",
       "2110  Female  23.664709  1.738836  133.472641                            yes   \n",
       "\n",
       "     FAVC  FCVC  NCP       CAEC SMOKE      CH2O  SCC       FAF       TUE  \\\n",
       "0      no   2.0  3.0  Sometimes    no  2.000000   no  0.000000  1.000000   \n",
       "1      no   3.0  3.0  Sometimes   yes  3.000000  yes  3.000000  0.000000   \n",
       "2      no   2.0  3.0  Sometimes    no  2.000000   no  2.000000  1.000000   \n",
       "3      no   3.0  3.0  Sometimes    no  2.000000   no  2.000000  0.000000   \n",
       "4      no   2.0  1.0  Sometimes    no  2.000000   no  0.000000  0.000000   \n",
       "...   ...   ...  ...        ...   ...       ...  ...       ...       ...   \n",
       "2106  yes   3.0  3.0  Sometimes    no  1.728139   no  1.676269  0.906247   \n",
       "2107  yes   3.0  3.0  Sometimes    no  2.005130   no  1.341390  0.599270   \n",
       "2108  yes   3.0  3.0  Sometimes    no  2.054193   no  1.414209  0.646288   \n",
       "2109  yes   3.0  3.0  Sometimes    no  2.852339   no  1.139107  0.586035   \n",
       "2110  yes   3.0  3.0  Sometimes    no  2.863513   no  1.026452  0.714137   \n",
       "\n",
       "            CALC                 MTRANS           NObeyesdad  \n",
       "0             no  Public_Transportation        Normal_Weight  \n",
       "1      Sometimes  Public_Transportation        Normal_Weight  \n",
       "2     Frequently  Public_Transportation        Normal_Weight  \n",
       "3     Frequently                Walking   Overweight_Level_I  \n",
       "4      Sometimes  Public_Transportation  Overweight_Level_II  \n",
       "...          ...                    ...                  ...  \n",
       "2106   Sometimes  Public_Transportation     Obesity_Type_III  \n",
       "2107   Sometimes  Public_Transportation     Obesity_Type_III  \n",
       "2108   Sometimes  Public_Transportation     Obesity_Type_III  \n",
       "2109   Sometimes  Public_Transportation     Obesity_Type_III  \n",
       "2110   Sometimes  Public_Transportation     Obesity_Type_III  \n",
       "\n",
       "[2111 rows x 17 columns]"
      ]
     },
     "execution_count": 312,
     "metadata": {},
     "output_type": "execute_result"
    }
   ],
   "source": [
    "df"
   ]
  },
  {
   "cell_type": "markdown",
   "id": "03d665bf",
   "metadata": {},
   "source": [
    "### 2. Визначити та вивести кількість записів."
   ]
  },
  {
   "cell_type": "code",
   "execution_count": 313,
   "id": "2937b20f",
   "metadata": {},
   "outputs": [
    {
     "name": "stdout",
     "output_type": "stream",
     "text": [
      "Кількість записів: 2111\n"
     ]
    }
   ],
   "source": [
    "print(f'Кількість записів: {len(df)}')"
   ]
  },
  {
   "cell_type": "markdown",
   "id": "727f5cc7",
   "metadata": {},
   "source": [
    "### 3. Вивести атрибути набору даних."
   ]
  },
  {
   "cell_type": "code",
   "execution_count": 314,
   "id": "4ba3ea8d",
   "metadata": {},
   "outputs": [
    {
     "name": "stdout",
     "output_type": "stream",
     "text": [
      "Gender\n",
      "Age\n",
      "Height\n",
      "Weight\n",
      "family_history_with_overweight\n",
      "FAVC\n",
      "FCVC\n",
      "NCP\n",
      "CAEC\n",
      "SMOKE\n",
      "CH2O\n",
      "SCC\n",
      "FAF\n",
      "TUE\n",
      "CALC\n",
      "MTRANS\n",
      "NObeyesdad\n"
     ]
    }
   ],
   "source": [
    "print(*df.columns.values, sep='\\n')"
   ]
  },
  {
   "cell_type": "markdown",
   "id": "c2d387d8",
   "metadata": {},
   "source": [
    "### 4.\n",
    "- ввести з клавіатури кількість варіантів перемішування (не менше трьох)\n",
    "- отримати відповідну кількість варіантів перемішування набору даних та розділення його на навчальну (тренувальну) та тестову вибірки, використовуючи функцію ***ShuffleSplit***\n",
    "- сформувати навчальну та тестову вибірки на основі другого варіанту\n",
    "- з'ясувати збалансованість набору даних"
   ]
  },
  {
   "cell_type": "markdown",
   "id": "2fc7b418",
   "metadata": {},
   "source": [
    "Вводимо кількість варіантів перемішування"
   ]
  },
  {
   "cell_type": "code",
   "execution_count": 315,
   "id": "54ceb0c7",
   "metadata": {},
   "outputs": [],
   "source": [
    "n = int(input('Введіть кількість варіантів перемішування (≥3): '))"
   ]
  },
  {
   "cell_type": "markdown",
   "id": "e6316c55",
   "metadata": {},
   "source": [
    "Розбиття на навчальну та тестову вибірки виконуватимемо у відношенні 3 до 1:"
   ]
  },
  {
   "cell_type": "code",
   "execution_count": 316,
   "id": "384f97cc",
   "metadata": {},
   "outputs": [
    {
     "name": "stdout",
     "output_type": "stream",
     "text": [
      "ShuffleSplit(n_splits=5, random_state=0, test_size=0.25, train_size=None)\n"
     ]
    }
   ],
   "source": [
    "rs = ShuffleSplit(n_splits=n, test_size=.25, random_state=0)\n",
    "print(rs)"
   ]
  },
  {
   "cell_type": "code",
   "execution_count": 317,
   "id": "957e4b1e",
   "metadata": {},
   "outputs": [],
   "source": [
    "np.set_printoptions(threshold=9)"
   ]
  },
  {
   "cell_type": "markdown",
   "id": "4cc0928c",
   "metadata": {},
   "source": [
    "*(Передаючи pandas DataFrame у функцію ShuffleSplit на вихід отримуватимемо список індексів з початкового датафрейму, за якими вже можна буде звертатись до конкретних записів (рядків даних))*"
   ]
  },
  {
   "cell_type": "code",
   "execution_count": 318,
   "id": "bf6b938d",
   "metadata": {},
   "outputs": [],
   "source": [
    "option = 2"
   ]
  },
  {
   "cell_type": "code",
   "execution_count": null,
   "id": "cb2aa8c6",
   "metadata": {},
   "outputs": [],
   "source": []
  },
  {
   "cell_type": "code",
   "execution_count": 319,
   "id": "0e0b8a42",
   "metadata": {
    "scrolled": true
   },
   "outputs": [
    {
     "name": "stdout",
     "output_type": "stream",
     "text": [
      "Варіант перемішування 1:\n",
      "  Train: [2075  113 1140 ...  763  835 1653], length=1583\n",
      "  Test:  [1730  259  966 ... 1396 1948 1670], length=528\n",
      "\n",
      "Варіант перемішування 2:\n",
      "  Train: [ 983 1492 1811 ... 2086 1454   55], length=1583\n",
      "  Test:  [ 617 1714  484 ...  576 1487 1447], length=528\n",
      "\n",
      "Варіант перемішування 3:\n",
      "  Train: [ 111  401  594 ... 1349  309  984], length=1583\n",
      "  Test:  [ 844  864 1658 ...   72 1386  934], length=528\n",
      "\n",
      "Варіант перемішування 4:\n",
      "  Train: [1077  638 1542 ... 1522  436  956], length=1583\n",
      "  Test:  [ 927  722 1859 ... 1932 1172 1904], length=528\n",
      "\n",
      "Варіант перемішування 5:\n",
      "  Train: [1858  190 1635 ...  867  147  926], length=1583\n",
      "  Test:  [1108   39  528 ...  411  862  562], length=528\n",
      "\n"
     ]
    }
   ],
   "source": [
    "for i, (train_index, test_index) in enumerate(rs.split(df), start=1):\n",
    "    print(f\"Варіант перемішування {i}:\")\n",
    "    print(f\"  Train: {train_index}, length={len(train_index)}\")\n",
    "    print(f\"  Test:  {test_index}, length={len(test_index)}\\n\")\n",
    "    \n",
    "    if i == option - 1:\n",
    "        train, test = train_index, test_index"
   ]
  },
  {
   "cell_type": "markdown",
   "id": "de01623a",
   "metadata": {},
   "source": [
    "З'ясуємо збалансованість набору даних. Як можна побачити з назв атрибутів, у датасеті надається інформація про конкретних осіб (їх вік, зріст тощо), яких можна чітко поділити за атрибутом ***Gender***:"
   ]
  },
  {
   "cell_type": "code",
   "execution_count": 320,
   "id": "16cd57ab",
   "metadata": {},
   "outputs": [],
   "source": [
    "count = df['Gender'].value_counts()"
   ]
  },
  {
   "cell_type": "code",
   "execution_count": 321,
   "id": "d7ad5b14",
   "metadata": {},
   "outputs": [
    {
     "name": "stdout",
     "output_type": "stream",
     "text": [
      "Частка Male: 50.59%\n",
      "Частка Female: 49.41%\n"
     ]
    }
   ],
   "source": [
    "for i in range(len(count)):\n",
    "    print(f'Частка {count.index[i]}: {round(count.values[i] * 100 / len(df), 2)}%')"
   ]
  },
  {
   "cell_type": "markdown",
   "id": "53d3df80",
   "metadata": {},
   "source": [
    "Як бачимо, набір даних є збалансованим."
   ]
  },
  {
   "cell_type": "markdown",
   "id": "2dc63944",
   "metadata": {},
   "source": [
    "### 5.\n",
    "- використовуючи функцію ***KNeighborsClassifier*** бібліотеки ***scikit-learn***, збудувати класифікаційну модель на основі методу *k* найближчих сусідів (значення всіх параметрів залишити за замовчуванням);\n",
    "- навчити її на тренувальній вибірці, вважаючи, що цільова характеристика визначається стовпчиком ***NObeyesdad***, а всі інші виступають в ролі вихідних аргументів."
   ]
  },
  {
   "cell_type": "markdown",
   "id": "9d041c04",
   "metadata": {},
   "source": [
    "Будуємо класифікаційну модель зі значеннями за замовчуванням:"
   ]
  },
  {
   "cell_type": "code",
   "execution_count": 322,
   "id": "08144aa1",
   "metadata": {},
   "outputs": [],
   "source": [
    "neigh = KNeighborsClassifier()"
   ]
  },
  {
   "cell_type": "markdown",
   "id": "289e692f",
   "metadata": {},
   "source": [
    "Оскільки набір даних складається з mixed data (містить як числові, так і рядкові значення), то для того, щоб навчити модель на тренувальній вибірці, string data необхідно перевести до числових категоріальних змінних. Оскільки бездумне кодування категорій від 0 до m може привести до того, що змінні, які не можна однозначно впорядкувати за значимістю (наприклад, кольори), за відстанню будуть знаходитись не один біля одного, то для кодування скористаємось [OneHotEncoder](https://www.geeksforgeeks.org/ml-one-hot-encoding/)'ом. Невеличкий приклад його роботи можна переглянути за [посиланням](https://qr.ae/ps5AS7). Окрім того очевидно, що оскільки mixed data міститься лиш у вхідних даних, то target class кодувати не потрібно."
   ]
  },
  {
   "cell_type": "code",
   "execution_count": 323,
   "id": "84e7957d",
   "metadata": {},
   "outputs": [
    {
     "name": "stdout",
     "output_type": "stream",
     "text": [
      "Прогноз моделі: ['Obesity_Type_II' 'Obesity_Type_I' 'Overweight_Level_I' ...\n",
      " 'Obesity_Type_I' 'Obesity_Type_III' 'Obesity_Type_II']\n",
      "\n"
     ]
    }
   ],
   "source": [
    "X_train = encode(df).iloc[train, :-1]\n",
    "y_train = df.iloc[train, -1]\n",
    "\n",
    "X_test = encode(df).iloc[test, :-1]\n",
    "y_test = df.iloc[test, -1]\n",
    "\n",
    "neigh.fit(X_train, y_train)\n",
    "\n",
    "print(f'Прогноз моделі: {neigh.predict(X_test)}\\n')"
   ]
  },
  {
   "cell_type": "markdown",
   "id": "ec7cdecf",
   "metadata": {},
   "source": [
    "### 6. \n",
    "- обчислити класифікаційні метрики збудованої моделі для тренувальної та тестової вибірки;\n",
    "- представити результати роботи моделі на тестовій вибірці графічно."
   ]
  },
  {
   "cell_type": "markdown",
   "id": "46da994c",
   "metadata": {},
   "source": [
    "Класифікаційні метрики збудованої моделі для тренувальної та тестової вибірки:"
   ]
  },
  {
   "cell_type": "code",
   "execution_count": 324,
   "id": "461d2586",
   "metadata": {},
   "outputs": [
    {
     "name": "stdout",
     "output_type": "stream",
     "text": [
      "Вибірка - train\n",
      " accuracy: 0.949\n",
      " BA: 0.948\n",
      " precision: 0.95\n",
      " recall: 0.949\n",
      " F1_score: 0.948\n",
      " MCC: 0.941\n"
     ]
    }
   ],
   "source": [
    "train_metrics, _ = calc_metrics(neigh, X_train, y_train, test=False)"
   ]
  },
  {
   "cell_type": "code",
   "execution_count": 325,
   "id": "df1f2cbe",
   "metadata": {},
   "outputs": [
    {
     "name": "stdout",
     "output_type": "stream",
     "text": [
      "Вибірка - test\n",
      " accuracy: 0.92\n",
      " BA: 0.914\n",
      " precision: 0.922\n",
      " recall: 0.92\n",
      " F1_score: 0.918\n",
      " MCC: 0.908\n"
     ]
    }
   ],
   "source": [
    "test_metrics, names = calc_metrics(neigh, X_test, y_test, test=True)"
   ]
  },
  {
   "cell_type": "code",
   "execution_count": 326,
   "id": "519907cb",
   "metadata": {},
   "outputs": [
    {
     "data": {
      "image/png": "[encoded data removed]",
      "text/plain": [
       "<Figure size 864x576 with 1 Axes>"
      ]
     },
     "metadata": {
      "needs_background": "light"
     },
     "output_type": "display_data"
    }
   ],
   "source": [
    "plot_metrics(test_metrics, names, 'Результати роботи моделі на тестовій вибірці графічно')"
   ]
  },
  {
   "cell_type": "markdown",
   "id": "0e459cff",
   "metadata": {},
   "source": [
    "### 7. З'ясувати вплив степеня метрики Мінковського (від 1 до 20) на результати класифікації. Результати представити графічно."
   ]
  },
  {
   "cell_type": "code",
   "execution_count": null,
   "id": "08c9a0e2",
   "metadata": {},
   "outputs": [],
   "source": [
    "iters = 20"
   ]
  },
  {
   "cell_type": "code",
   "execution_count": 327,
   "id": "66bf9756",
   "metadata": {},
   "outputs": [],
   "source": [
    "train_results = []\n",
    "test_results = []"
   ]
  },
  {
   "cell_type": "code",
   "execution_count": 328,
   "id": "8d1e9675",
   "metadata": {},
   "outputs": [],
   "source": [
    "for i in tqdm(range(1, iters+1)):\n",
    "    kNN = KNeighborsClassifier(p=i)\n",
    "    \n",
    "    kNN.fit(X_train, y_train)\n",
    "    \n",
    "    trm, _ = calc_metrics(kNN, X_train, y_train, test=False, output=False)\n",
    "    tsm, _ = calc_metrics(kNN, X_test, y_test, test=True, output=False)\n",
    "    \n",
    "    train_results.append(trm)\n",
    "    test_results.append(tsm)"
   ]
  },
  {
   "cell_type": "code",
   "execution_count": 350,
   "id": "c8a4cadb",
   "metadata": {
    "scrolled": false
   },
   "outputs": [
    {
     "data": {
      "image/png": "[encoded data removed]",
      "text/plain": [
       "<Figure size 1152x432 with 2 Axes>"
      ]
     },
     "metadata": {
      "needs_background": "light"
     },
     "output_type": "display_data"
    }
   ],
   "source": [
    "plot_results(train_results, test_results, names, 'Вплив степеня метрики Мінковського (від 1 до 20) на результати класифікації')"
   ]
  }
 ],
 "metadata": {
  "kernelspec": {
   "display_name": "Python 3 (ipykernel)",
   "language": "python",
   "name": "python3"
  },
  "language_info": {
   "codemirror_mode": {
    "name": "ipython",
    "version": 3
   },
   "file_extension": ".py",
   "mimetype": "text/x-python",
   "name": "python",
   "nbconvert_exporter": "python",
   "pygments_lexer": "ipython3",
   "version": "3.9.12"
  }
 },
 "nbformat": 4,
 "nbformat_minor": 5
}
